{
  "nbformat": 4,
  "nbformat_minor": 0,
  "metadata": {
    "colab": {
      "provenance": [],
      "authorship_tag": "ABX9TyO4msiy7MoJnpYSLNCovjAQ",
      "include_colab_link": true
    },
    "kernelspec": {
      "name": "python3",
      "display_name": "Python 3"
    },
    "language_info": {
      "name": "python"
    }
  },
  "cells": [
    {
      "cell_type": "markdown",
      "metadata": {
        "id": "view-in-github",
        "colab_type": "text"
      },
      "source": [
        "<a href=\"https://colab.research.google.com/github/sims-smis/Convolutional-Neural-Network-Project/blob/main/YOLOV3.ipynb\" target=\"_parent\"><img src=\"https://colab.research.google.com/assets/colab-badge.svg\" alt=\"Open In Colab\"/></a>"
      ]
    },
    {
      "cell_type": "code",
      "execution_count": null,
      "metadata": {
        "id": "CPQCvZq_INbh"
      },
      "outputs": [],
      "source": [
        "import cv2\n",
        "import numpy as np\n",
        "\n",
        "# Weights has to be downloaded from https://pjreddie.com/darknet/yolo/\n",
        "yolo = cv2.dnn.readNet(\"yolov3.weights\", \"yolov3.cfg\")\n",
        "classes = []\n",
        "\n",
        "with open(\"coco.names\", \"r\") as file:\n",
        "    classes = [line.strip() for line in file.readlines()]\n",
        "layer_names = yolo.getLayerNames()\n",
        "output_layers = [layer_names[i[0] - 1] for i in yolo.getUnconnectedOutLayers()]\n",
        "\n",
        "colorRed = (0,0,255)\n",
        "colorGreen = (0,255,0)\n",
        "\n",
        "# #Loading Images\n",
        "name = \"image.jpg\"\n",
        "img = cv2.imread(name)\n",
        "height, width, channels = img.shape\n",
        "\n",
        "# # Detecting objects\n",
        "blob = cv2.dnn.blobFromImage(img, 0.00392, (416, 416), (0, 0, 0), True, crop=False)\n",
        "\n",
        "yolo.setInput(blob)\n",
        "outputs = yolo.forward(output_layers)\n",
        "\n",
        "class_ids = []\n",
        "confidences = []\n",
        "boxes = []\n",
        "for output in outputs:\n",
        "    for detection in output:\n",
        "        scores = detection[5:]\n",
        "        class_id = np.argmax(scores)\n",
        "        confidence = scores[class_id]\n",
        "        if confidence > 0.5:\n",
        "            center_x = int(detection[0] * width)\n",
        "            center_y = int(detection[1] * height)\n",
        "            w = int(detection[2] * width)\n",
        "            h = int(detection[3] * height)\n",
        "\n",
        "            x = int(center_x - w / 2)\n",
        "            y = int(center_y - h / 2)\n",
        "\n",
        "            boxes.append([x, y, w, h])\n",
        "            confidences.append(float(confidence))\n",
        "            class_ids.append(class_id)\n",
        "\n",
        "indexes = cv2.dnn.NMSBoxes(boxes, confidences, 0.5, 0.4)\n",
        "for i in range(len(boxes)):\n",
        "    if i in indexes:\n",
        "        x, y, w, h = boxes[i]\n",
        "        label = str(classes[class_ids[i]])\n",
        "        cv2.rectangle(img, (x, y), (x + w, y + h), colorGreen, 3)\n",
        "        cv2.putText(img, label, (x, y + 10), cv2.FONT_HERSHEY_PLAIN, 8, colorRed, 8)\n",
        "\n",
        "\n",
        "#cv2.imshow(\"Image\", img)\n",
        "cv2.imwrite(\"output.jpg\",img)\n",
        "#cv2.waitKey(0)\n",
        "#cv2.destroyAllWindows()"
      ]
    },
    {
      "cell_type": "code",
      "source": [],
      "metadata": {
        "id": "LFdi3rloqHWj"
      },
      "execution_count": null,
      "outputs": []
    }
  ]
}